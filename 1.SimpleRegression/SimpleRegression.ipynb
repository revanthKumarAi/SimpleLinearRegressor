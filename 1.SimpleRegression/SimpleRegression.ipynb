{
 "cells": [
  {
   "cell_type": "code",
   "execution_count": 6,
   "id": "60493f01",
   "metadata": {},
   "outputs": [],
   "source": [
    "# pandas libary is use for tables \n",
    "import pandas as pd"
   ]
  },
  {
   "cell_type": "markdown",
   "id": "942666f0",
   "metadata": {},
   "source": [
    "# step 1\n",
    "## Data collection"
   ]
  },
  {
   "cell_type": "code",
   "execution_count": 8,
   "id": "bbaafcec",
   "metadata": {},
   "outputs": [],
   "source": [
    "# load the file in dataSet\n",
    "dataSet = pd.read_csv('Salary_Data.csv')"
   ]
  },
  {
   "cell_type": "code",
   "execution_count": 10,
   "id": "11eb1bb2",
   "metadata": {},
   "outputs": [
    {
     "data": {
      "text/html": [
       "<div>\n",
       "<style scoped>\n",
       "    .dataframe tbody tr th:only-of-type {\n",
       "        vertical-align: middle;\n",
       "    }\n",
       "\n",
       "    .dataframe tbody tr th {\n",
       "        vertical-align: top;\n",
       "    }\n",
       "\n",
       "    .dataframe thead th {\n",
       "        text-align: right;\n",
       "    }\n",
       "</style>\n",
       "<table border=\"1\" class=\"dataframe\">\n",
       "  <thead>\n",
       "    <tr style=\"text-align: right;\">\n",
       "      <th></th>\n",
       "      <th>YearsExperience</th>\n",
       "      <th>Salary</th>\n",
       "    </tr>\n",
       "  </thead>\n",
       "  <tbody>\n",
       "    <tr>\n",
       "      <th>0</th>\n",
       "      <td>1.1</td>\n",
       "      <td>39343.0</td>\n",
       "    </tr>\n",
       "    <tr>\n",
       "      <th>1</th>\n",
       "      <td>1.3</td>\n",
       "      <td>46205.0</td>\n",
       "    </tr>\n",
       "    <tr>\n",
       "      <th>2</th>\n",
       "      <td>1.5</td>\n",
       "      <td>37731.0</td>\n",
       "    </tr>\n",
       "    <tr>\n",
       "      <th>3</th>\n",
       "      <td>2.0</td>\n",
       "      <td>43525.0</td>\n",
       "    </tr>\n",
       "    <tr>\n",
       "      <th>4</th>\n",
       "      <td>2.2</td>\n",
       "      <td>39891.0</td>\n",
       "    </tr>\n",
       "  </tbody>\n",
       "</table>\n",
       "</div>"
      ],
      "text/plain": [
       "   YearsExperience   Salary\n",
       "0              1.1  39343.0\n",
       "1              1.3  46205.0\n",
       "2              1.5  37731.0\n",
       "3              2.0  43525.0\n",
       "4              2.2  39891.0"
      ]
     },
     "execution_count": 10,
     "metadata": {},
     "output_type": "execute_result"
    }
   ],
   "source": [
    "# head function show the first five data\n",
    "dataSet.head()"
   ]
  },
  {
   "cell_type": "markdown",
   "id": "b78aa3db",
   "metadata": {},
   "source": [
    "# step 2\n",
    "## Input and Output"
   ]
  },
  {
   "cell_type": "code",
   "execution_count": 17,
   "id": "7eff116a",
   "metadata": {},
   "outputs": [
    {
     "data": {
      "text/html": [
       "<div>\n",
       "<style scoped>\n",
       "    .dataframe tbody tr th:only-of-type {\n",
       "        vertical-align: middle;\n",
       "    }\n",
       "\n",
       "    .dataframe tbody tr th {\n",
       "        vertical-align: top;\n",
       "    }\n",
       "\n",
       "    .dataframe thead th {\n",
       "        text-align: right;\n",
       "    }\n",
       "</style>\n",
       "<table border=\"1\" class=\"dataframe\">\n",
       "  <thead>\n",
       "    <tr style=\"text-align: right;\">\n",
       "      <th></th>\n",
       "      <th>YearsExperience</th>\n",
       "    </tr>\n",
       "  </thead>\n",
       "  <tbody>\n",
       "    <tr>\n",
       "      <th>0</th>\n",
       "      <td>1.1</td>\n",
       "    </tr>\n",
       "    <tr>\n",
       "      <th>1</th>\n",
       "      <td>1.3</td>\n",
       "    </tr>\n",
       "  </tbody>\n",
       "</table>\n",
       "</div>"
      ],
      "text/plain": [
       "   YearsExperience\n",
       "0              1.1\n",
       "1              1.3"
      ]
     },
     "execution_count": 17,
     "metadata": {},
     "output_type": "execute_result"
    }
   ],
   "source": [
    "# input\n",
    "inDependent = dataSet[['YearsExperience']]\n",
    "inDependent.head(2)"
   ]
  },
  {
   "cell_type": "code",
   "execution_count": 18,
   "id": "e97139ae",
   "metadata": {},
   "outputs": [
    {
     "data": {
      "text/html": [
       "<div>\n",
       "<style scoped>\n",
       "    .dataframe tbody tr th:only-of-type {\n",
       "        vertical-align: middle;\n",
       "    }\n",
       "\n",
       "    .dataframe tbody tr th {\n",
       "        vertical-align: top;\n",
       "    }\n",
       "\n",
       "    .dataframe thead th {\n",
       "        text-align: right;\n",
       "    }\n",
       "</style>\n",
       "<table border=\"1\" class=\"dataframe\">\n",
       "  <thead>\n",
       "    <tr style=\"text-align: right;\">\n",
       "      <th></th>\n",
       "      <th>Salary</th>\n",
       "    </tr>\n",
       "  </thead>\n",
       "  <tbody>\n",
       "    <tr>\n",
       "      <th>0</th>\n",
       "      <td>39343.0</td>\n",
       "    </tr>\n",
       "    <tr>\n",
       "      <th>1</th>\n",
       "      <td>46205.0</td>\n",
       "    </tr>\n",
       "  </tbody>\n",
       "</table>\n",
       "</div>"
      ],
      "text/plain": [
       "    Salary\n",
       "0  39343.0\n",
       "1  46205.0"
      ]
     },
     "execution_count": 18,
     "metadata": {},
     "output_type": "execute_result"
    }
   ],
   "source": [
    "# output is prediction value\n",
    "dependent = dataSet[['Salary']]\n",
    "dependent.head(2)"
   ]
  },
  {
   "cell_type": "markdown",
   "id": "6c949d3d",
   "metadata": {},
   "source": [
    "# step 3\n",
    "## split train and test "
   ]
  },
  {
   "cell_type": "code",
   "execution_count": 19,
   "id": "4ab6d1fe",
   "metadata": {},
   "outputs": [],
   "source": [
    "# this method split the train and test\n",
    "from sklearn.model_selection import train_test_split"
   ]
  },
  {
   "cell_type": "code",
   "execution_count": 22,
   "id": "c4177d7c",
   "metadata": {},
   "outputs": [],
   "source": [
    "xTrain, xTest, yTrain, yTest  = train_test_split(inDependent, dependent, test_size = 0.30, random_state = 0)"
   ]
  },
  {
   "cell_type": "markdown",
   "id": "ac9a24ad",
   "metadata": {},
   "source": [
    "# step 4\n",
    "## Train the model (or) the machine is learning"
   ]
  },
  {
   "cell_type": "code",
   "execution_count": 23,
   "id": "40b6c469",
   "metadata": {},
   "outputs": [],
   "source": [
    "# this is algorithm for linear regression \n",
    "from sklearn.linear_model import LinearRegression"
   ]
  },
  {
   "cell_type": "code",
   "execution_count": 25,
   "id": "9a63c2dd",
   "metadata": {},
   "outputs": [
    {
     "data": {
      "text/plain": [
       "LinearRegression(copy_X=True, fit_intercept=True, n_jobs=None, normalize=False)"
      ]
     },
     "execution_count": 25,
     "metadata": {},
     "output_type": "execute_result"
    }
   ],
   "source": [
    "regressor = LinearRegression()\n",
    "regressor.fit(xTrain, yTrain)"
   ]
  },
  {
   "cell_type": "code",
   "execution_count": 27,
   "id": "59135311",
   "metadata": {},
   "outputs": [
    {
     "data": {
      "text/plain": [
       "array([[9360.26128619]])"
      ]
     },
     "execution_count": 27,
     "metadata": {},
     "output_type": "execute_result"
    }
   ],
   "source": [
    "# weight means slope\n",
    "weight = regressor.coef_\n",
    "weight"
   ]
  },
  {
   "cell_type": "code",
   "execution_count": 31,
   "id": "48db3e7b",
   "metadata": {},
   "outputs": [
    {
     "data": {
      "text/plain": [
       "array([26777.3913412])"
      ]
     },
     "execution_count": 31,
     "metadata": {},
     "output_type": "execute_result"
    }
   ],
   "source": [
    "# bais \n",
    "bais = regressor.intercept_\n",
    "bais"
   ]
  },
  {
   "cell_type": "markdown",
   "id": "0a3fc553",
   "metadata": {},
   "source": [
    "# step 5\n",
    "## prediction test"
   ]
  },
  {
   "cell_type": "code",
   "execution_count": 35,
   "id": "78b6d4e3",
   "metadata": {},
   "outputs": [],
   "source": [
    "yPred = regressor.predict(xTest)"
   ]
  },
  {
   "cell_type": "markdown",
   "id": "20973024",
   "metadata": {},
   "source": [
    "# step 6\n",
    "# check good model or bad model"
   ]
  },
  {
   "cell_type": "code",
   "execution_count": 36,
   "id": "5041ab67",
   "metadata": {},
   "outputs": [],
   "source": [
    "from sklearn.metrics import r2_score"
   ]
  },
  {
   "cell_type": "code",
   "execution_count": 38,
   "id": "ec61af75",
   "metadata": {},
   "outputs": [],
   "source": [
    "# This yTest is actual data\n",
    "# This yPred is predict data\n",
    "rScore = r2_score(yTest, yPred) "
   ]
  },
  {
   "cell_type": "code",
   "execution_count": 39,
   "id": "d803b74e",
   "metadata": {},
   "outputs": [
    {
     "data": {
      "text/plain": [
       "0.9740993407213511"
      ]
     },
     "execution_count": 39,
     "metadata": {},
     "output_type": "execute_result"
    }
   ],
   "source": [
    "rScore"
   ]
  },
  {
   "cell_type": "markdown",
   "id": "e7eda94b",
   "metadata": {},
   "source": [
    "# step 7\n",
    "## save the model"
   ]
  },
  {
   "cell_type": "code",
   "execution_count": 41,
   "id": "30471562",
   "metadata": {},
   "outputs": [],
   "source": [
    "import pickle "
   ]
  },
  {
   "cell_type": "code",
   "execution_count": 45,
   "id": "1664d0fb",
   "metadata": {},
   "outputs": [],
   "source": [
    "fileName = \"salaryPrediction.sav\""
   ]
  },
  {
   "cell_type": "code",
   "execution_count": 46,
   "id": "95eebf4c",
   "metadata": {},
   "outputs": [],
   "source": [
    "pickle.dump(regressor, open(fileName, 'wb'))"
   ]
  },
  {
   "cell_type": "markdown",
   "id": "d7460542",
   "metadata": {},
   "source": [
    "# step 8\n",
    "## run the model "
   ]
  },
  {
   "cell_type": "code",
   "execution_count": 51,
   "id": "cabf32ac",
   "metadata": {},
   "outputs": [],
   "source": [
    "loadedModel = pickle.load(open('salaryPrediction.sav', 'rb'))\n",
    "result = loadedModel.predict([[15]])"
   ]
  },
  {
   "cell_type": "code",
   "execution_count": 52,
   "id": "75ff6730",
   "metadata": {},
   "outputs": [
    {
     "data": {
      "text/plain": [
       "array([[167181.3106341]])"
      ]
     },
     "execution_count": 52,
     "metadata": {},
     "output_type": "execute_result"
    }
   ],
   "source": [
    "result"
   ]
  },
  {
   "cell_type": "code",
   "execution_count": null,
   "id": "3150331b",
   "metadata": {},
   "outputs": [],
   "source": []
  }
 ],
 "metadata": {
  "kernelspec": {
   "display_name": "Python 3 (ipykernel)",
   "language": "python",
   "name": "python3"
  },
  "language_info": {
   "codemirror_mode": {
    "name": "ipython",
    "version": 3
   },
   "file_extension": ".py",
   "mimetype": "text/x-python",
   "name": "python",
   "nbconvert_exporter": "python",
   "pygments_lexer": "ipython3",
   "version": "3.7.6"
  }
 },
 "nbformat": 4,
 "nbformat_minor": 5
}
